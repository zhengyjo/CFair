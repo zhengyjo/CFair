{
 "cells": [
  {
   "cell_type": "code",
   "execution_count": null,
   "id": "5dee6568",
   "metadata": {},
   "outputs": [],
   "source": [
    "import numpy as np\n",
    "import pandas as pd"
   ]
  },
  {
   "cell_type": "code",
   "execution_count": null,
   "id": "9eff23d7",
   "metadata": {},
   "outputs": [],
   "source": [
    "from sklearn.model_selection import GridSearchCV"
   ]
  },
  {
   "cell_type": "code",
   "execution_count": null,
   "id": "589c2ccd",
   "metadata": {},
   "outputs": [],
   "source": [
    "import pickle"
   ]
  },
  {
   "cell_type": "code",
   "execution_count": null,
   "id": "2e5dde72",
   "metadata": {},
   "outputs": [],
   "source": [
    "from imblearn.over_sampling import SMOTE"
   ]
  },
  {
   "cell_type": "code",
   "execution_count": null,
   "id": "dd869ab9",
   "metadata": {},
   "outputs": [],
   "source": [
    "import matplotlib.pyplot as plt"
   ]
  },
  {
   "cell_type": "code",
   "execution_count": null,
   "id": "449e845a",
   "metadata": {
    "scrolled": true
   },
   "outputs": [],
   "source": [
    "import numpy as np\n",
    "import seaborn as sns\n",
    "import matplotlib.pyplot as plt\n",
    "from sklearn.metrics import confusion_matrix"
   ]
  },
  {
   "cell_type": "code",
   "execution_count": null,
   "id": "c14b561e",
   "metadata": {},
   "outputs": [],
   "source": [
    "from Ventilation_helper import *\n",
    "import scipy.stats as stats\n",
    "import sampling\n",
    "from calculation import *"
   ]
  },
  {
   "cell_type": "markdown",
   "id": "9a13ccf7",
   "metadata": {},
   "source": [
    "# Read the dataframes and the matching results "
   ]
  },
  {
   "cell_type": "code",
   "execution_count": null,
   "id": "38c04a57",
   "metadata": {},
   "outputs": [],
   "source": [
    "df_black = pd.read_csv(\"../venv/black_5_9.csv\")\n",
    "df_white = pd.read_csv(\"../venv/white_5_9.csv\")"
   ]
  },
  {
   "cell_type": "code",
   "execution_count": null,
   "id": "bd2e08c9",
   "metadata": {},
   "outputs": [],
   "source": [
    "# Read the counter-part index\n",
    "\n",
    "name = \"one_to_one_zero_100\"\n",
    "with open(name, \"rb\") as fp:   # Unpickling\n",
    "    C_0_one_to_one = pickle.load(fp)\n",
    "name = \"one_to_one_one_100\"\n",
    "with open(name, \"rb\") as fp:   # Unpickling\n",
    "    C_1_one_to_one = pickle.load(fp)\n"
   ]
  },
  {
   "cell_type": "markdown",
   "id": "e25a3521",
   "metadata": {},
   "source": [
    "# Let's start splitting "
   ]
  },
  {
   "cell_type": "code",
   "execution_count": null,
   "id": "a042f59b",
   "metadata": {},
   "outputs": [],
   "source": [
    "df_black_one_to_one = df_black.iloc[C_0_one_to_one]\n",
    "df_white_one_to_one = df_white.iloc[C_1_one_to_one]"
   ]
  },
  {
   "cell_type": "code",
   "execution_count": null,
   "id": "5c88e7be",
   "metadata": {},
   "outputs": [],
   "source": [
    "mask = ~df_black.index.isin(C_0_one_to_one)\n",
    "df_black_left = df_black.loc[mask]\n",
    "\n",
    "mask_white = ~df_white.index.isin(C_1_one_to_one)\n",
    "df_white_left = df_white.loc[mask_white]"
   ]
  },
  {
   "cell_type": "code",
   "execution_count": null,
   "id": "80c3b989",
   "metadata": {},
   "outputs": [],
   "source": [
    "# Spliting\n",
    "# 1. Counter part, if minority is selected, then the majority match is also selected\n",
    "# 2. For data not in the counterparts, just perform random spliting"
   ]
  },
  {
   "cell_type": "code",
   "execution_count": null,
   "id": "8eddccd2",
   "metadata": {},
   "outputs": [],
   "source": [
    "whole_lst = np.arange(len(df_black_one_to_one))"
   ]
  },
  {
   "cell_type": "code",
   "execution_count": null,
   "id": "59d48e43",
   "metadata": {},
   "outputs": [],
   "source": [
    "df_counter_train_lst,df_counter_test_lst = split_with_match(df_black_one_to_one,df_white_one_to_one,5)"
   ]
  },
  {
   "cell_type": "code",
   "execution_count": null,
   "id": "0d9a39c9",
   "metadata": {},
   "outputs": [],
   "source": [
    "df_black_left_train_lst, df_black_left_test_lst = split_without_match(df_black_left,5)\n",
    "df_white_left_train_lst, df_white_left_test_lst = split_without_match(df_white_left,5)"
   ]
  },
  {
   "cell_type": "markdown",
   "id": "f0873b7e",
   "metadata": {},
   "source": [
    "# Random Forest as Demo\n",
    "\n",
    "### User can choose their own models"
   ]
  },
  {
   "cell_type": "code",
   "execution_count": null,
   "id": "f2966d9d",
   "metadata": {},
   "outputs": [],
   "source": [
    "measure_columns = ['gender','rrt','gcs',\n",
    " 'sofa_24hours',\n",
    " 'heart_rate',\n",
    " 'sbp_art',\n",
    " 'dbp_art',\n",
    " 'mbp_cuff',\n",
    " 'resp_rate',\n",
    " 'temperature',\n",
    " 'spo2',\n",
    " 'glucose',\n",
    " 'admission_age',\n",
    " 'charlson_comorbidity_index',\n",
    " 'apsiii',\n",
    " 'bmi']"
   ]
  },
  {
   "cell_type": "code",
   "execution_count": null,
   "id": "c5e12893",
   "metadata": {},
   "outputs": [],
   "source": [
    "# Train a model for predicting ventilation\n",
    "from sklearn.ensemble import RandomForestClassifier\n",
    "from sklearn.model_selection import train_test_split\n",
    "from sklearn.metrics import accuracy_score"
   ]
  },
  {
   "cell_type": "code",
   "execution_count": null,
   "id": "b7b78472",
   "metadata": {},
   "outputs": [],
   "source": [
    "from sklearn.metrics import classification_report"
   ]
  },
  {
   "cell_type": "code",
   "execution_count": null,
   "id": "261c9642",
   "metadata": {},
   "outputs": [],
   "source": [
    "# Create a Random Forest model\n",
    "\n",
    "model_lst = []\n",
    "\n",
    "for index in range(5):\n",
    "    df_train = pd.DataFrame()\n",
    "    df_train = pd.concat([df_train,df_counter_train_lst[index]])\n",
    "    df_train = pd.concat([df_train,df_black_left_train_lst[index]])\n",
    "    df_train = pd.concat([df_train,df_white_left_train_lst[index]])\n",
    "    \n",
    "    X_train = df_train[measure_columns]\n",
    "    y_train = df_train['ventilation_status']\n",
    "    \n",
    "    # Use Smote sampling\n",
    "    sm = SMOTE(random_state=42)\n",
    "    X_res, y_res = sm.fit_resample(X_train, y_train)\n",
    "    \n",
    "    model = RandomForestClassifier(class_weight='balanced')\n",
    "\n",
    "    # Train the model using the training data\n",
    "    model.fit(X_res, y_res)\n",
    "    model_lst.append(model)\n",
    "    "
   ]
  },
  {
   "cell_type": "code",
   "execution_count": null,
   "id": "4a709cde",
   "metadata": {},
   "outputs": [],
   "source": [
    "for i in range(len(model_lst)):\n",
    "    y_pred_black_left = model_lst[i].predict(df_black_left_test_lst[i][measure_columns])\n",
    "    y_pred_black_left_lst.append(y_pred_black_left)\n",
    "    y_pred_white_left = model_lst[i].predict(df_white_left_test_lst[i][measure_columns])\n",
    "    y_pred_white_left_lst.append(y_pred_white_left)\n",
    "    y_pred_counterparts_black = model_lst[i].predict(df_counter_test_lst[i][df_counter_test_lst[i]['race_white_black']==1][measure_columns])\n",
    "    y_pred_counterparts_black_lst.append(y_pred_counterparts_black)\n",
    "    y_pred_counterparts_white = model_lst[i].predict(df_counter_test_lst[i][df_counter_test_lst[i]['race_white_black']==0][measure_columns])\n",
    "    y_pred_counterparts_white_lst.append(y_pred_counterparts_white)"
   ]
  },
  {
   "cell_type": "code",
   "execution_count": null,
   "id": "8111b932",
   "metadata": {},
   "outputs": [],
   "source": [
    "\"\"\"\n",
    "Conduct the fairness metric calculation based on diffrent groups/counterparts\n",
    "\n",
    "\"\"\" \n",
    "\n",
    "y_pred_black_left_lst = []\n",
    "y_pred_white_left_lst = []\n",
    "y_pred_counterparts_black_lst = []\n",
    "y_pred_counterparts_white_lst = []\n",
    "\n",
    "y_true_black_left_lst = []\n",
    "y_true_white_left_lst = []\n",
    "y_true_counterparts_black_lst = []\n",
    "y_true_counterparts_white_lst = []\n",
    "\n",
    "res_total_lst = []\n",
    "res_counter_part_lst = []\n",
    "res_left_lst = []\n",
    "\n",
    "\n",
    "for i in range(len(model_lst)):\n",
    "    print(i)\n",
    "    print(\"\")\n",
    "    y_pred_black_left = model_lst[i].predict(df_black_left_test_lst[i][measure_columns])\n",
    "    y_pred_black_left_lst.append(y_pred_black_left)\n",
    "    y_true_black_left_lst.append(df_black_left_test_lst[i]['ventilation_status'])\n",
    "    \n",
    "    \n",
    "    y_pred_white_left = model_lst[i].predict(df_white_left_test_lst[i][measure_columns])\n",
    "    y_pred_white_left_lst.append(y_pred_white_left)\n",
    "    y_true_white_left_lst.append(df_white_left_test_lst[i]['ventilation_status'])\n",
    "    \n",
    "    \n",
    "    y_pred_counterparts_black = model_lst[i].predict(df_counter_test_lst[i][df_counter_test_lst[i]['race_white_black']==1][measure_columns])\n",
    "    y_pred_counterparts_black_lst.append(y_pred_counterparts_black)\n",
    "    y_true_counterparts_black_lst.append(df_counter_test_lst[i][df_counter_test_lst[i]['race_white_black']==1]['ventilation_status'])\n",
    "    \n",
    "    \n",
    "    y_pred_counterparts_white = model_lst[i].predict(df_counter_test_lst[i][df_counter_test_lst[i]['race_white_black']==0][measure_columns])\n",
    "    y_pred_counterparts_white_lst.append(y_pred_counterparts_white)\n",
    "    y_true_counterparts_white_lst.append(df_counter_test_lst[i][df_counter_test_lst[i]['race_white_black']==0]['ventilation_status'])\n",
    "    \n",
    "    total_black_pred_test = list(y_pred_counterparts_black_lst[i]) + list(y_pred_black_left_lst[i])\n",
    "    total_white_pred_test = list(y_pred_counterparts_white_lst[i]) + list(y_pred_white_left_lst[i])\n",
    "    total_pred = list(total_black_pred_test) + list(total_white_pred_test)\n",
    "    total_race = np.array(list([1]*len(total_black_pred_test)) + list([0]*len(total_white_pred_test)))\n",
    "    \n",
    "    \n",
    "    total_black_true_test = list(y_true_counterparts_black_lst[i]) + list(y_true_black_left_lst[i]) \n",
    "    total_white_true_test = list(y_true_counterparts_white_lst[i]) + list(y_true_white_left_lst[i]) \n",
    "    total_true = list(total_black_true_test) + list(total_white_true_test)\n",
    "    \n",
    "    \n",
    "    y_black_counterpart_pred = list(y_pred_counterparts_black_lst[i])\n",
    "    y_white_counterpart_pred = list(y_pred_counterparts_white_lst[i])\n",
    "    \n",
    "    y_black_counterpart_true = list(y_true_counterparts_black_lst[i])\n",
    "    y_white_counterpart_true = list(y_true_counterparts_white_lst[i])\n",
    "    \n",
    "    counterpart_pred = list(y_black_counterpart_pred) + list(y_white_counterpart_pred)\n",
    "    counterpart_true = list(y_black_counterpart_true) + list(y_white_counterpart_true)\n",
    "    counterpart_race = np.array(list([1]*len(y_black_counterpart_pred)) + list([0]*len(y_white_counterpart_pred)))\n",
    "    \n",
    "    y_pred_black_left = list(y_pred_black_left_lst[i])\n",
    "    y_pred_white_left = list(y_pred_white_left_lst[i])\n",
    "    \n",
    "    y_true_black_left = list(y_true_black_left_lst[i])\n",
    "    y_true_white_left = list(y_true_white_left_lst[i])\n",
    "    \n",
    "    left_pred = list(y_pred_black_left) + list(y_pred_white_left)\n",
    "    left_true = list(y_true_black_left) + list(y_true_white_left)\n",
    "    left_race = np.array(list([1]*len(left_pred)) + list([0]*len(left_true)))\n",
    "    \n",
    "    \n",
    "    \n",
    "    res_total = calculate_fairness_metrics(np.array(total_true),np.array(total_pred),total_race)\n",
    "    res_counter_part = calculate_fairness_metrics(np.array(counterpart_true),np.array(counterpart_pred),counterpart_race)\n",
    "    \n",
    "    res_total_lst.append(res_total)\n",
    "    res_counter_part_lst.append(res_counter_part)\n",
    "    \n",
    "    "
   ]
  },
  {
   "cell_type": "code",
   "execution_count": null,
   "id": "bb5a8569",
   "metadata": {},
   "outputs": [],
   "source": [
    "\"\"\"\n",
    "Calculate the DP gap based on the prediction probability of \n",
    "different attributes of Ventilation\n",
    "\"\"\" \n",
    "l1_norm_total_lst = []\n",
    "l1_norm_couner_lst = []\n",
    "p_value_vent = []\n",
    "y_pred_black_left_proba_lst = []\n",
    "y_pred_white_left_proba_lst = []\n",
    "y_pred_counterparts_black_proba_lst = []\n",
    "y_pred_counterparts_white_proba_lst = []\n",
    "\n",
    "for i in range(len(model_lst)):\n",
    "    print(i)\n",
    "    print(\"\")\n",
    "    y_pred_black_left_proba = model_lst[i].predict_proba(df_black_left_test_lst[i][measure_columns])\n",
    "    y_pred_black_left_proba_lst.append(y_pred_black_left_proba)\n",
    "    y_pred_white_left_proba = model_lst[i].predict_proba(df_white_left_test_lst[i][measure_columns])\n",
    "    y_pred_white_left_proba_lst.append(y_pred_white_left_proba)\n",
    "\n",
    "    y_pred_counterparts_black_proba = model_lst[i].predict_proba(df_counter_test_lst[i][df_counter_test_lst[i]['race_white_black']==1][measure_columns])\n",
    "    y_pred_counterparts_black_proba_lst.append(y_pred_counterparts_black_proba)\n",
    "    y_pred_counterparts_white_proba = model_lst[i].predict_proba(df_counter_test_lst[i][df_counter_test_lst[i]['race_white_black']==0][measure_columns])\n",
    "    y_pred_counterparts_white_proba_lst.append(y_pred_counterparts_white_proba)\n",
    "\n",
    "    y_pred_black_total_proba = np.vstack([y_pred_black_left_proba,y_pred_counterparts_black_proba])\n",
    "    y_pred_white_total_proba = np.vstack([y_pred_white_left_proba,y_pred_counterparts_white_proba])\n",
    "\n",
    "    y_pred_black_total_proba_mean = y_pred_black_total_proba.mean(axis=0)\n",
    "    y_pred_white_total_proba_mean = y_pred_white_total_proba.mean(axis=0)\n",
    "\n",
    "    y_pred_counterparts_black_proba_mean = y_pred_counterparts_black_proba.mean(axis=0)\n",
    "    y_pred_counterparts_white_proba_mean = y_pred_counterparts_white_proba.mean(axis=0)\n",
    "\n",
    "\n",
    "    l1_norm_total = np.linalg.norm(y_pred_black_total_proba_mean - y_pred_white_total_proba_mean, ord=1)\n",
    "    l1_norm_couner = np.linalg.norm(y_pred_counterparts_black_proba_mean - y_pred_counterparts_white_proba_mean, ord=1)\n",
    "    \n",
    "    l1_norm_total_lst.append(l1_norm_total)\n",
    "    l1_norm_couner_lst.append(l1_norm_couner)\n",
    "    \n",
    "    p_value_vent.append(vent_paired_t_test (y_pred_counterparts_black_proba,y_pred_counterparts_white_proba)[1])"
   ]
  },
  {
   "cell_type": "code",
   "execution_count": null,
   "id": "930ae693",
   "metadata": {},
   "outputs": [],
   "source": [
    "\"\"\"\n",
    "Save Group based results into dictionary\n",
    "\"\"\"\n",
    "total_res = {}\n",
    "\n",
    "for key in res_total_lst[0]:\n",
    "    total_res[key] = []\n",
    "    for i in range(len(res_total_lst)):\n",
    "        total_res[key].append(res_total_lst[i][key])"
   ]
  },
  {
   "cell_type": "code",
   "execution_count": null,
   "id": "d9ca7dbe",
   "metadata": {},
   "outputs": [],
   "source": [
    "\"\"\"\n",
    "Save counterpart based results into dictionary\n",
    "\"\"\"\n",
    "counterpart_res = {}\n",
    "\n",
    "for key in res_counter_part_lst[0]:\n",
    "    counterpart_res[key] = []\n",
    "    for i in range(len(res_counter_part_lst)):\n",
    "        counterpart_res[key].append(res_counter_part_lst[i][key])"
   ]
  },
  {
   "cell_type": "code",
   "execution_count": null,
   "id": "a13b4b31",
   "metadata": {},
   "outputs": [],
   "source": [
    "\"\"\"\n",
    "Conduct the paired t-test on counterparts for ventilation prediction\n",
    "\n",
    "\"\"\"\n",
    "\n",
    "counter_part_vent_paired_t = vent_paired_t_test(y_pred_counterparts_black_proba,y_pred_counterparts_white_proba)"
   ]
  }
 ],
 "metadata": {
  "kernelspec": {
   "display_name": "Python 3",
   "language": "python",
   "name": "python3"
  },
  "language_info": {
   "codemirror_mode": {
    "name": "ipython",
    "version": 3
   },
   "file_extension": ".py",
   "mimetype": "text/x-python",
   "name": "python",
   "nbconvert_exporter": "python",
   "pygments_lexer": "ipython3",
   "version": "3.7.4"
  }
 },
 "nbformat": 4,
 "nbformat_minor": 5
}
